{
 "cells": [
  {
   "cell_type": "markdown",
   "id": "69c10263",
   "metadata": {},
   "source": [
    "---------------------------------------------------------------------\n",
    "         \n",
    "## Amostragem Simples\n",
    "\n",
    "---------------------------------------------------------------------"
   ]
  },
  {
   "cell_type": "code",
   "execution_count": null,
   "id": "c644dbbb",
   "metadata": {},
   "outputs": [],
   "source": [
    "import pandas as pd \n",
    "import numpy as np\n",
    "import matplotlib.pyplot as plt\n",
    "\n",
    "from scipy.stats import norm, skewnorm\n",
    "from scipy.stats import norm\n",
    "from scipy import stats\n",
    "from math import ceil\n",
    "from sklearn.model_selection import train_test_split"
   ]
  },
  {
   "cell_type": "code",
   "execution_count": null,
   "id": "d536a03d",
   "metadata": {},
   "outputs": [],
   "source": [
    "# Carregando o arquivo\n",
    "df = pd.read_csv(\"iris.csv\")\n",
    "# Mostrando o arquivo\n",
    "df.head(5)"
   ]
  },
  {
   "cell_type": "code",
   "execution_count": null,
   "id": "114253dc",
   "metadata": {},
   "outputs": [],
   "source": [
    "# Estabelecer uma semente aleatória para manutenção do resultado\n",
    "np.random.seed(2345)\n",
    "\n",
    "#150 Amostras | 0 a 1 | Reposição | prob. equivalentes\n",
    "amostra = np.random.choice(a = [0,1], size = 150, replace = True,\n",
    "                          p = [0.7,0.3])"
   ]
  },
  {
   "cell_type": "code",
   "execution_count": null,
   "id": "c14828de",
   "metadata": {},
   "outputs": [],
   "source": [
    "len(amostra) #tamanho da amostra"
   ]
  },
  {
   "cell_type": "code",
   "execution_count": null,
   "id": "0e3c4a4a",
   "metadata": {},
   "outputs": [],
   "source": [
    "print (len(amostra==1), len(amostra==0)) #vendo qtos de 1 e qtos de 0"
   ]
  },
  {
   "cell_type": "code",
   "execution_count": null,
   "id": "ea295a9c",
   "metadata": {},
   "outputs": [],
   "source": [
    "basefinal1 = df.loc[amostra==0]\n",
    "basefinal2 = df.loc[amostra==1]"
   ]
  },
  {
   "cell_type": "code",
   "execution_count": null,
   "id": "c8174b72",
   "metadata": {},
   "outputs": [],
   "source": [
    "print(basefinal1.shape, \" | \", basefinal2.shape)"
   ]
  },
  {
   "cell_type": "markdown",
   "id": "f8436ac4",
   "metadata": {},
   "source": [
    "---------------------------------------------------------------------\n",
    "\n",
    "## Amostragem Estratificada\n",
    "\n",
    "---------------------------------------------------------------------"
   ]
  },
  {
   "cell_type": "code",
   "execution_count": null,
   "id": "4ba79edd",
   "metadata": {},
   "outputs": [],
   "source": [
    "df['class'].value_counts()"
   ]
  },
  {
   "cell_type": "code",
   "execution_count": null,
   "id": "be010dbb",
   "metadata": {},
   "outputs": [],
   "source": [
    "#iris.iloc [:, 0:4] - Atributos previsores (informações da planta - características)\n",
    "#iris.iloc [:, 4] a classe a ser prevista (setosa, virginica ou versicolor)\n",
    "# para testar a base selecionamos -> 0.5 (50%), por isso o _ para os outros valores\n",
    "# retornar a amostra se baseando na classe\n",
    "\n",
    "X, _, y, _ = train_test_split(df.iloc[:, 0:4], \n",
    "                              df.iloc[:, 4],         \n",
    "                              test_size=0.5, \n",
    "                              stratify = df.iloc[:, 4])\n",
    "\n",
    "y.value_counts()"
   ]
  },
  {
   "cell_type": "markdown",
   "id": "bc79e66c",
   "metadata": {},
   "source": [
    " > Outro dataset - Infert"
   ]
  },
  {
   "cell_type": "code",
   "execution_count": null,
   "id": "5b7fbcbe",
   "metadata": {},
   "outputs": [],
   "source": [
    "infert = pd.read_csv('infert.csv')\n",
    "\n",
    "infert.head(5)"
   ]
  },
  {
   "cell_type": "code",
   "execution_count": null,
   "id": "9fd84552",
   "metadata": {},
   "outputs": [],
   "source": [
    "infert.describe().T"
   ]
  },
  {
   "cell_type": "code",
   "execution_count": null,
   "id": "e43e1d7c",
   "metadata": {},
   "outputs": [],
   "source": [
    "infert['education'].value_counts()"
   ]
  },
  {
   "cell_type": "code",
   "execution_count": null,
   "id": "112534c2",
   "metadata": {},
   "outputs": [],
   "source": [
    "# amostra com apenas 40% dos registros\n",
    "# teste com 60%\n",
    "X1, _, y1, _ = train_test_split(infert.iloc[:, 2:9], infert.iloc[:, 1],\n",
    "                                test_size=0.6, stratify= infert.iloc[:, 1])\n",
    "y1.value_counts()"
   ]
  },
  {
   "cell_type": "markdown",
   "id": "ff3b7ac0",
   "metadata": {},
   "source": [
    "---------------------------------------------------------------------\n",
    "\n",
    "## Amostragem Sistemática\n",
    "\n",
    "---------------------------------------------------------------------"
   ]
  },
  {
   "cell_type": "code",
   "execution_count": null,
   "id": "871e96d8",
   "metadata": {},
   "outputs": [],
   "source": [
    "pop = 150\n",
    "amostra = 15\n",
    "\n",
    "# para obter uma amostra de 15, precisamentos selecionar um a cada 10\n",
    "k = ceil(pop/amostra)\n",
    "\n",
    "#resultado = 10\n",
    "print(k)"
   ]
  },
  {
   "cell_type": "code",
   "execution_count": null,
   "id": "b29eb6b3",
   "metadata": {},
   "outputs": [],
   "source": [
    "# definição do valor aleatório p/ inicar a amostrar\n",
    "# vai de 1 até k +1\n",
    "\n",
    "r = np.random.randint(low = 1, high = k + 1, size = 1)\n",
    "\n",
    "print(r)"
   ]
  },
  {
   "cell_type": "code",
   "execution_count": null,
   "id": "6ceed1db",
   "metadata": {},
   "outputs": [],
   "source": [
    "# For que somará os próximos valores\n",
    "# baseado no 1º valor de r definido acima\n",
    "\n",
    "acumulador = r[0]\n",
    "sorteados = []\n",
    "\n",
    "for i in range(amostra):\n",
    "    sorteados.append(acumulador)\n",
    "    acumulador += k\n",
    "    \n",
    "print(len(sorteados))\n",
    "print(sorteados)"
   ]
  },
  {
   "cell_type": "code",
   "execution_count": null,
   "id": "47f43ce7",
   "metadata": {},
   "outputs": [],
   "source": [
    "# carregando a base final para carregar o método \n",
    "\n",
    "df.loc[sorteados]"
   ]
  },
  {
   "cell_type": "markdown",
   "id": "72cba9b7",
   "metadata": {},
   "source": [
    "---------------------------------------------------------------------\n",
    "\n",
    "## Centralidade e Variabilidade\n",
    "\n",
    "---------------------------------------------------------------------"
   ]
  },
  {
   "cell_type": "code",
   "execution_count": null,
   "id": "abbca494",
   "metadata": {},
   "outputs": [],
   "source": [
    "# criando variável com o salário dos funcionários do setor de uma empresa\n",
    "sal_trab = [7200, 1100, 3400, 11000, 22000, 2700, 3000, 6500, 6200, 8000, 6200, 860, 860, 860, 7200]\n",
    "\n",
    "print('A média é:' , np.mean(sal_trab))\n",
    "print('A mediana é:' , np.median(sal_trab))\n",
    "\n",
    "#Criando e gerando os quartis:\n",
    "quartis = np.quantile(sal_trab, [0 , 0.25 , 0.50 , 0.75, 1])\n",
    "print('Os quartis são (0%, 25%, 50%, 75% e 100%)   ->  ', quartis)\n",
    "print ( 'O desvio padrão do salário dos funcionário é: : ' , np.std(sal_trab, ddof = 1))"
   ]
  },
  {
   "cell_type": "code",
   "execution_count": null,
   "id": "312c535e-fe5b-4073-aa7e-380629b752cd",
   "metadata": {},
   "outputs": [],
   "source": [
    "# descrição pela função do metodos stats\n",
    "stats.describe(sal_trab)"
   ]
  },
  {
   "cell_type": "markdown",
   "id": "305697f5-40f1-4837-91a5-1b71b29fc8f8",
   "metadata": {
    "tags": []
   },
   "source": [
    "---------------------------------------------------------------------\n",
    "## Distribuição normal\n",
    "---------------------------------------------------------------------"
   ]
  },
  {
   "cell_type": "code",
   "execution_count": null,
   "id": "866c6f49-1fb4-4d97-994a-f3b154f5c969",
   "metadata": {},
   "outputs": [],
   "source": [
    "# Conjunto de objetos em uma cesta\n",
    "# A média é 8 e o desvio padrão é 2\n",
    "# Qual a chance de eu pegar um obj com menos de 6kg\n",
    "menorq = norm.cdf(6, 8, 2) #  menor que | média | desvpad\n",
    "\n",
    "# Pegar um com mais de 6kg\n",
    "mairq = 1 - norm.cdf(6, 8, 2) #  menor que | média | desvpad\n",
    "\n",
    "#Obj menor que 6kg ou um maior que 10kg:\n",
    "maioroumenorq = menorq + norm.sf(10,8,2)\n",
    "\n",
    "#menor que 10 e maior que 8\n",
    "menorqmaiorq = norm.cdf(10, 8, 2) - norm.sf(8,8,2)\n",
    "\n",
    "print('- Menor q 6kg: ', menorq)\n",
    "print('- Maior que: ', mairq)\n",
    "print('- Obj menor que 6kg ou um maior que 10kg: ', maioroumenorq)\n",
    "print('- Menor que 10 e maior que 8: ', menorqmaiorq )"
   ]
  },
  {
   "cell_type": "markdown",
   "id": "40600f3a-7845-4993-95e1-a620da8c0913",
   "metadata": {},
   "source": [
    "---------------------------------------------------------------------\n",
    "## Teste de Distribuição Normal\n",
    "---------------------------------------------------------------------"
   ]
  },
  {
   "cell_type": "code",
   "execution_count": null,
   "id": "0ec7c492-5aa5-4d76-8b44-0c1942f36a90",
   "metadata": {},
   "outputs": [],
   "source": [
    "dados = norm.rvs(size=1000)\n",
    "#dados"
   ]
  },
  {
   "cell_type": "code",
   "execution_count": null,
   "id": "10300c5c-f43b-4003-9ab8-993f0328c8ff",
   "metadata": {},
   "outputs": [],
   "source": [
    "plt.hist(dados, bins=20);\n",
    "plt.title('Dados');"
   ]
  },
  {
   "cell_type": "code",
   "execution_count": null,
   "id": "101778d8-4539-4b43-afdc-da4d8ccf87d8",
   "metadata": {},
   "outputs": [],
   "source": [
    "#cria grafico\n",
    "fig, ax = plt.subplots()\n",
    "stats.probplot(dados, fit=True, plot=ax)\n",
    "plt.show()"
   ]
  },
  {
   "cell_type": "markdown",
   "id": "3cd1c2f6",
   "metadata": {},
   "source": [
    "> Dados não normais"
   ]
  },
  {
   "cell_type": "code",
   "execution_count": 26,
   "id": "dd88a996-6ea2-4b4d-9b6f-d62bfcd8b325",
   "metadata": {},
   "outputs": [
    {
     "data": {
      "text/plain": [
       "Text(0.5, 1.0, 'Dados')"
      ]
     },
     "execution_count": 26,
     "metadata": {},
     "output_type": "execute_result"
    },
    {
     "data": {
      "image/png": "[encoded data removed]",
      "text/plain": [
       "<Figure size 432x288 with 1 Axes>"
      ]
     },
     "metadata": {
      "needs_background": "light"
     },
     "output_type": "display_data"
    }
   ],
   "source": [
    "dados2 = skewnorm.rvs(4,size=4000)\n",
    "\n",
    "plt.hist(dados2, bins=20);\n",
    "plt.title('Dados')                    "
   ]
  },
  {
   "cell_type": "code",
   "execution_count": 29,
   "id": "8a89ba65-d4ad-4437-9682-e865a75c64c0",
   "metadata": {},
   "outputs": [
    {
     "data": {
      "image/png": "[encoded data removed]",
      "text/plain": [
       "<Figure size 432x288 with 1 Axes>"
      ]
     },
     "metadata": {
      "needs_background": "light"
     },
     "output_type": "display_data"
    }
   ],
   "source": [
    "fig, ax = plt.subplots()\n",
    "stats.probplot(dados2,fit=True, plot=ax)\n",
    "plt.show()"
   ]
  },
  {
   "cell_type": "code",
   "execution_count": 30,
   "id": "0956e5ac-1e3c-4636-9f87-7bd47c7e4130",
   "metadata": {},
   "outputs": [
    {
     "data": {
      "text/plain": [
       "ShapiroResult(statistic=0.961395800113678, pvalue=2.170037097959785e-31)"
      ]
     },
     "execution_count": 30,
     "metadata": {},
     "output_type": "execute_result"
    }
   ],
   "source": [
    "stats.shapiro(dados2)"
   ]
  },
  {
   "cell_type": "code",
   "execution_count": null,
   "id": "b118f414-086b-4f36-a58e-12d82e569eb6",
   "metadata": {},
   "outputs": [],
   "source": []
  }
 ],
 "metadata": {
  "kernelspec": {
   "display_name": "Python 3 (ipykernel)",
   "language": "python",
   "name": "python3"
  },
  "language_info": {
   "codemirror_mode": {
    "name": "ipython",
    "version": 3
   },
   "file_extension": ".py",
   "mimetype": "text/x-python",
   "name": "python",
   "nbconvert_exporter": "python",
   "pygments_lexer": "ipython3",
   "version": "3.9.7"
  }
 },
 "nbformat": 4,
 "nbformat_minor": 5
}
