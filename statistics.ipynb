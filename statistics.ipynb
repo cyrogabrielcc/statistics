{
 "cells": [
  {
   "cell_type": "markdown",
   "id": "8d618d40",
   "metadata": {},
   "source": [
    "\n",
    "##                            Amostragem Simples\n",
    "\n",
    "---------------------------------------------------------------------"
   ]
  },
  {
   "cell_type": "code",
   "execution_count": 51,
   "id": "20606dfc",
   "metadata": {},
   "outputs": [],
   "source": [
    "import pandas as pd \n",
    "import numpy as np\n",
    "\n",
    "from scipy \n",
    "from math import ceil\n",
    "from sklearn.model_selection import train_test_split"
   ]
  },
  {
   "cell_type": "code",
   "execution_count": 52,
   "id": "8d7bf3d7",
   "metadata": {},
   "outputs": [
    {
     "data": {
      "text/html": [
       "<div>\n",
       "<style scoped>\n",
       "    .dataframe tbody tr th:only-of-type {\n",
       "        vertical-align: middle;\n",
       "    }\n",
       "\n",
       "    .dataframe tbody tr th {\n",
       "        vertical-align: top;\n",
       "    }\n",
       "\n",
       "    .dataframe thead th {\n",
       "        text-align: right;\n",
       "    }\n",
       "</style>\n",
       "<table border=\"1\" class=\"dataframe\">\n",
       "  <thead>\n",
       "    <tr style=\"text-align: right;\">\n",
       "      <th></th>\n",
       "      <th>sepal length</th>\n",
       "      <th>sepal width</th>\n",
       "      <th>petal length</th>\n",
       "      <th>petal width</th>\n",
       "      <th>class</th>\n",
       "    </tr>\n",
       "  </thead>\n",
       "  <tbody>\n",
       "    <tr>\n",
       "      <th>0</th>\n",
       "      <td>5.1</td>\n",
       "      <td>3.5</td>\n",
       "      <td>1.4</td>\n",
       "      <td>0.2</td>\n",
       "      <td>Iris-setosa</td>\n",
       "    </tr>\n",
       "    <tr>\n",
       "      <th>1</th>\n",
       "      <td>4.9</td>\n",
       "      <td>3.0</td>\n",
       "      <td>1.4</td>\n",
       "      <td>0.2</td>\n",
       "      <td>Iris-setosa</td>\n",
       "    </tr>\n",
       "    <tr>\n",
       "      <th>2</th>\n",
       "      <td>4.7</td>\n",
       "      <td>3.2</td>\n",
       "      <td>1.3</td>\n",
       "      <td>0.2</td>\n",
       "      <td>Iris-setosa</td>\n",
       "    </tr>\n",
       "    <tr>\n",
       "      <th>3</th>\n",
       "      <td>4.6</td>\n",
       "      <td>3.1</td>\n",
       "      <td>1.5</td>\n",
       "      <td>0.2</td>\n",
       "      <td>Iris-setosa</td>\n",
       "    </tr>\n",
       "    <tr>\n",
       "      <th>4</th>\n",
       "      <td>5.0</td>\n",
       "      <td>3.6</td>\n",
       "      <td>1.4</td>\n",
       "      <td>0.2</td>\n",
       "      <td>Iris-setosa</td>\n",
       "    </tr>\n",
       "  </tbody>\n",
       "</table>\n",
       "</div>"
      ],
      "text/plain": [
       "   sepal length  sepal width  petal length  petal width        class\n",
       "0           5.1          3.5           1.4          0.2  Iris-setosa\n",
       "1           4.9          3.0           1.4          0.2  Iris-setosa\n",
       "2           4.7          3.2           1.3          0.2  Iris-setosa\n",
       "3           4.6          3.1           1.5          0.2  Iris-setosa\n",
       "4           5.0          3.6           1.4          0.2  Iris-setosa"
      ]
     },
     "execution_count": 52,
     "metadata": {},
     "output_type": "execute_result"
    }
   ],
   "source": [
    "# Carregando o arquivo\n",
    "df = pd.read_csv(\"iris.csv\")\n",
    "# Mostrando o arquivo\n",
    "df.head(5)"
   ]
  },
  {
   "cell_type": "code",
   "execution_count": 53,
   "id": "a10df9f7",
   "metadata": {},
   "outputs": [],
   "source": [
    "# Estabelecer uma semente aleatória para manutenção do resultado\n",
    "np.random.seed(2345)\n",
    "\n",
    "#150 Amostras | 0 a 1 | Reposição | prob. equivalentes\n",
    "amostra = np.random.choice(a = [0,1], size = 150, replace = True,\n",
    "                          p = [0.7,0.3])"
   ]
  },
  {
   "cell_type": "code",
   "execution_count": 54,
   "id": "b757e89d",
   "metadata": {},
   "outputs": [
    {
     "data": {
      "text/plain": [
       "150"
      ]
     },
     "execution_count": 54,
     "metadata": {},
     "output_type": "execute_result"
    }
   ],
   "source": [
    "len(amostra) #tamanho da amostra"
   ]
  },
  {
   "cell_type": "code",
   "execution_count": 55,
   "id": "dc433aa3",
   "metadata": {},
   "outputs": [
    {
     "name": "stdout",
     "output_type": "stream",
     "text": [
      "150 150\n"
     ]
    }
   ],
   "source": [
    "print (len(amostra==1), len(amostra==0)) #vendo qtos de 1 e qtos de 0"
   ]
  },
  {
   "cell_type": "code",
   "execution_count": 56,
   "id": "e0537cfd",
   "metadata": {},
   "outputs": [],
   "source": [
    "basefinal1 = df.loc[amostra==0]\n",
    "basefinal2 = df.loc[amostra==1]"
   ]
  },
  {
   "cell_type": "code",
   "execution_count": 57,
   "id": "3c051492",
   "metadata": {},
   "outputs": [
    {
     "name": "stdout",
     "output_type": "stream",
     "text": [
      "(101, 5)  |  (49, 5)\n"
     ]
    }
   ],
   "source": [
    "print(basefinal1.shape, \" | \", basefinal2.shape)"
   ]
  },
  {
   "cell_type": "markdown",
   "id": "04788924",
   "metadata": {},
   "source": [
    "---------------------------------------------------------------------\n",
    "\n",
    "## Amostragem Estratificada\n",
    "\n",
    "---------------------------------------------------------------------"
   ]
  },
  {
   "cell_type": "code",
   "execution_count": 58,
   "id": "2ae248ec",
   "metadata": {},
   "outputs": [
    {
     "data": {
      "text/plain": [
       "Iris-setosa        50\n",
       "Iris-versicolor    50\n",
       "Iris-virginica     50\n",
       "Name: class, dtype: int64"
      ]
     },
     "execution_count": 58,
     "metadata": {},
     "output_type": "execute_result"
    }
   ],
   "source": [
    "df['class'].value_counts()"
   ]
  },
  {
   "cell_type": "code",
   "execution_count": 59,
   "id": "320f717f",
   "metadata": {},
   "outputs": [
    {
     "data": {
      "text/plain": [
       "Iris-setosa        25\n",
       "Iris-versicolor    25\n",
       "Iris-virginica     25\n",
       "Name: class, dtype: int64"
      ]
     },
     "execution_count": 59,
     "metadata": {},
     "output_type": "execute_result"
    }
   ],
   "source": [
    "#iris.iloc [:, 0:4] - Atributos previsores (informações da planta - características)\n",
    "#iris.iloc [:, 4] a classe a ser prevista (setosa, virginica ou versicolor)\n",
    "# para testar a base selecionamos -> 0.5 (50%), por isso o _ para os outros valores\n",
    "# retornar a amostra se baseando na classe\n",
    "\n",
    "X, _, y, _ = train_test_split(df.iloc[:, 0:4], \n",
    "                              df.iloc[:, 4],         \n",
    "                              test_size=0.5, \n",
    "                              stratify = df.iloc[:, 4])\n",
    "\n",
    "y.value_counts()"
   ]
  },
  {
   "cell_type": "markdown",
   "id": "35caaa88",
   "metadata": {},
   "source": [
    " > Outro dataset - Infert"
   ]
  },
  {
   "cell_type": "code",
   "execution_count": 60,
   "id": "e960f2e5",
   "metadata": {},
   "outputs": [
    {
     "data": {
      "text/html": [
       "<div>\n",
       "<style scoped>\n",
       "    .dataframe tbody tr th:only-of-type {\n",
       "        vertical-align: middle;\n",
       "    }\n",
       "\n",
       "    .dataframe tbody tr th {\n",
       "        vertical-align: top;\n",
       "    }\n",
       "\n",
       "    .dataframe thead th {\n",
       "        text-align: right;\n",
       "    }\n",
       "</style>\n",
       "<table border=\"1\" class=\"dataframe\">\n",
       "  <thead>\n",
       "    <tr style=\"text-align: right;\">\n",
       "      <th></th>\n",
       "      <th>Unnamed: 0</th>\n",
       "      <th>education</th>\n",
       "      <th>age</th>\n",
       "      <th>parity</th>\n",
       "      <th>induced</th>\n",
       "      <th>case</th>\n",
       "      <th>spontaneous</th>\n",
       "      <th>stratum</th>\n",
       "      <th>pooled.stratum</th>\n",
       "    </tr>\n",
       "  </thead>\n",
       "  <tbody>\n",
       "    <tr>\n",
       "      <th>0</th>\n",
       "      <td>1</td>\n",
       "      <td>0-5yrs</td>\n",
       "      <td>26</td>\n",
       "      <td>6</td>\n",
       "      <td>1</td>\n",
       "      <td>1</td>\n",
       "      <td>2</td>\n",
       "      <td>1</td>\n",
       "      <td>3</td>\n",
       "    </tr>\n",
       "    <tr>\n",
       "      <th>1</th>\n",
       "      <td>2</td>\n",
       "      <td>0-5yrs</td>\n",
       "      <td>42</td>\n",
       "      <td>1</td>\n",
       "      <td>1</td>\n",
       "      <td>1</td>\n",
       "      <td>0</td>\n",
       "      <td>2</td>\n",
       "      <td>1</td>\n",
       "    </tr>\n",
       "    <tr>\n",
       "      <th>2</th>\n",
       "      <td>3</td>\n",
       "      <td>0-5yrs</td>\n",
       "      <td>39</td>\n",
       "      <td>6</td>\n",
       "      <td>2</td>\n",
       "      <td>1</td>\n",
       "      <td>0</td>\n",
       "      <td>3</td>\n",
       "      <td>4</td>\n",
       "    </tr>\n",
       "    <tr>\n",
       "      <th>3</th>\n",
       "      <td>4</td>\n",
       "      <td>0-5yrs</td>\n",
       "      <td>34</td>\n",
       "      <td>4</td>\n",
       "      <td>2</td>\n",
       "      <td>1</td>\n",
       "      <td>0</td>\n",
       "      <td>4</td>\n",
       "      <td>2</td>\n",
       "    </tr>\n",
       "    <tr>\n",
       "      <th>4</th>\n",
       "      <td>5</td>\n",
       "      <td>6-11yrs</td>\n",
       "      <td>35</td>\n",
       "      <td>3</td>\n",
       "      <td>1</td>\n",
       "      <td>1</td>\n",
       "      <td>1</td>\n",
       "      <td>5</td>\n",
       "      <td>32</td>\n",
       "    </tr>\n",
       "  </tbody>\n",
       "</table>\n",
       "</div>"
      ],
      "text/plain": [
       "   Unnamed: 0 education  age  parity  induced  case  spontaneous  stratum  \\\n",
       "0           1    0-5yrs   26       6        1     1            2        1   \n",
       "1           2    0-5yrs   42       1        1     1            0        2   \n",
       "2           3    0-5yrs   39       6        2     1            0        3   \n",
       "3           4    0-5yrs   34       4        2     1            0        4   \n",
       "4           5   6-11yrs   35       3        1     1            1        5   \n",
       "\n",
       "   pooled.stratum  \n",
       "0               3  \n",
       "1               1  \n",
       "2               4  \n",
       "3               2  \n",
       "4              32  "
      ]
     },
     "execution_count": 60,
     "metadata": {},
     "output_type": "execute_result"
    }
   ],
   "source": [
    "infert = pd.read_csv('infert.csv')\n",
    "\n",
    "infert.head(5)"
   ]
  },
  {
   "cell_type": "code",
   "execution_count": 61,
   "id": "1a279d32",
   "metadata": {},
   "outputs": [
    {
     "data": {
      "text/html": [
       "<div>\n",
       "<style scoped>\n",
       "    .dataframe tbody tr th:only-of-type {\n",
       "        vertical-align: middle;\n",
       "    }\n",
       "\n",
       "    .dataframe tbody tr th {\n",
       "        vertical-align: top;\n",
       "    }\n",
       "\n",
       "    .dataframe thead th {\n",
       "        text-align: right;\n",
       "    }\n",
       "</style>\n",
       "<table border=\"1\" class=\"dataframe\">\n",
       "  <thead>\n",
       "    <tr style=\"text-align: right;\">\n",
       "      <th></th>\n",
       "      <th>count</th>\n",
       "      <th>mean</th>\n",
       "      <th>std</th>\n",
       "      <th>min</th>\n",
       "      <th>25%</th>\n",
       "      <th>50%</th>\n",
       "      <th>75%</th>\n",
       "      <th>max</th>\n",
       "    </tr>\n",
       "  </thead>\n",
       "  <tbody>\n",
       "    <tr>\n",
       "      <th>Unnamed: 0</th>\n",
       "      <td>248.0</td>\n",
       "      <td>124.500000</td>\n",
       "      <td>71.735626</td>\n",
       "      <td>1.0</td>\n",
       "      <td>62.75</td>\n",
       "      <td>124.5</td>\n",
       "      <td>186.25</td>\n",
       "      <td>248.0</td>\n",
       "    </tr>\n",
       "    <tr>\n",
       "      <th>age</th>\n",
       "      <td>248.0</td>\n",
       "      <td>31.504032</td>\n",
       "      <td>5.251565</td>\n",
       "      <td>21.0</td>\n",
       "      <td>28.00</td>\n",
       "      <td>31.0</td>\n",
       "      <td>35.25</td>\n",
       "      <td>44.0</td>\n",
       "    </tr>\n",
       "    <tr>\n",
       "      <th>parity</th>\n",
       "      <td>248.0</td>\n",
       "      <td>2.092742</td>\n",
       "      <td>1.251504</td>\n",
       "      <td>1.0</td>\n",
       "      <td>1.00</td>\n",
       "      <td>2.0</td>\n",
       "      <td>3.00</td>\n",
       "      <td>6.0</td>\n",
       "    </tr>\n",
       "    <tr>\n",
       "      <th>induced</th>\n",
       "      <td>248.0</td>\n",
       "      <td>0.572581</td>\n",
       "      <td>0.738457</td>\n",
       "      <td>0.0</td>\n",
       "      <td>0.00</td>\n",
       "      <td>0.0</td>\n",
       "      <td>1.00</td>\n",
       "      <td>2.0</td>\n",
       "    </tr>\n",
       "    <tr>\n",
       "      <th>case</th>\n",
       "      <td>248.0</td>\n",
       "      <td>0.334677</td>\n",
       "      <td>0.472832</td>\n",
       "      <td>0.0</td>\n",
       "      <td>0.00</td>\n",
       "      <td>0.0</td>\n",
       "      <td>1.00</td>\n",
       "      <td>1.0</td>\n",
       "    </tr>\n",
       "    <tr>\n",
       "      <th>spontaneous</th>\n",
       "      <td>248.0</td>\n",
       "      <td>0.576613</td>\n",
       "      <td>0.732541</td>\n",
       "      <td>0.0</td>\n",
       "      <td>0.00</td>\n",
       "      <td>0.0</td>\n",
       "      <td>1.00</td>\n",
       "      <td>2.0</td>\n",
       "    </tr>\n",
       "    <tr>\n",
       "      <th>stratum</th>\n",
       "      <td>248.0</td>\n",
       "      <td>41.870968</td>\n",
       "      <td>23.968423</td>\n",
       "      <td>1.0</td>\n",
       "      <td>21.00</td>\n",
       "      <td>42.0</td>\n",
       "      <td>62.25</td>\n",
       "      <td>83.0</td>\n",
       "    </tr>\n",
       "    <tr>\n",
       "      <th>pooled.stratum</th>\n",
       "      <td>248.0</td>\n",
       "      <td>33.580645</td>\n",
       "      <td>17.272100</td>\n",
       "      <td>1.0</td>\n",
       "      <td>19.00</td>\n",
       "      <td>36.0</td>\n",
       "      <td>48.25</td>\n",
       "      <td>63.0</td>\n",
       "    </tr>\n",
       "  </tbody>\n",
       "</table>\n",
       "</div>"
      ],
      "text/plain": [
       "                count        mean        std   min    25%    50%     75%  \\\n",
       "Unnamed: 0      248.0  124.500000  71.735626   1.0  62.75  124.5  186.25   \n",
       "age             248.0   31.504032   5.251565  21.0  28.00   31.0   35.25   \n",
       "parity          248.0    2.092742   1.251504   1.0   1.00    2.0    3.00   \n",
       "induced         248.0    0.572581   0.738457   0.0   0.00    0.0    1.00   \n",
       "case            248.0    0.334677   0.472832   0.0   0.00    0.0    1.00   \n",
       "spontaneous     248.0    0.576613   0.732541   0.0   0.00    0.0    1.00   \n",
       "stratum         248.0   41.870968  23.968423   1.0  21.00   42.0   62.25   \n",
       "pooled.stratum  248.0   33.580645  17.272100   1.0  19.00   36.0   48.25   \n",
       "\n",
       "                  max  \n",
       "Unnamed: 0      248.0  \n",
       "age              44.0  \n",
       "parity            6.0  \n",
       "induced           2.0  \n",
       "case              1.0  \n",
       "spontaneous       2.0  \n",
       "stratum          83.0  \n",
       "pooled.stratum   63.0  "
      ]
     },
     "execution_count": 61,
     "metadata": {},
     "output_type": "execute_result"
    }
   ],
   "source": [
    "infert.describe().T"
   ]
  },
  {
   "cell_type": "code",
   "execution_count": 62,
   "id": "8fd4f6c3",
   "metadata": {},
   "outputs": [
    {
     "data": {
      "text/plain": [
       "6-11yrs    120\n",
       "12+ yrs    116\n",
       "0-5yrs      12\n",
       "Name: education, dtype: int64"
      ]
     },
     "execution_count": 62,
     "metadata": {},
     "output_type": "execute_result"
    }
   ],
   "source": [
    "infert['education'].value_counts()"
   ]
  },
  {
   "cell_type": "code",
   "execution_count": 63,
   "id": "048a63ea",
   "metadata": {},
   "outputs": [
    {
     "data": {
      "text/plain": [
       "6-11yrs    48\n",
       "12+ yrs    46\n",
       "0-5yrs      5\n",
       "Name: education, dtype: int64"
      ]
     },
     "execution_count": 63,
     "metadata": {},
     "output_type": "execute_result"
    }
   ],
   "source": [
    "# amostra com apenas 40% dos registros\n",
    "# teste com 60%\n",
    "X1, _, y1, _ = train_test_split(infert.iloc[:, 2:9], infert.iloc[:, 1],\n",
    "                                test_size=0.6, stratify= infert.iloc[:, 1])\n",
    "y1.value_counts()"
   ]
  },
  {
   "cell_type": "markdown",
   "id": "e979adda",
   "metadata": {},
   "source": [
    "---------------------------------------------------------------------\n",
    "\n",
    "## Amostragem Sistemática\n",
    "\n",
    "---------------------------------------------------------------------"
   ]
  },
  {
   "cell_type": "code",
   "execution_count": 65,
   "id": "81e4c5f8",
   "metadata": {},
   "outputs": [
    {
     "name": "stdout",
     "output_type": "stream",
     "text": [
      "10\n"
     ]
    }
   ],
   "source": [
    "pop = 150\n",
    "amostra = 15\n",
    "\n",
    "# para obter uma amostra de 15, precisamentos selecionar um a cada 10\n",
    "k = ceil(pop/amostra)\n",
    "\n",
    "#resultado = 10\n",
    "print(k)"
   ]
  },
  {
   "cell_type": "code",
   "execution_count": 76,
   "id": "2614ea2a",
   "metadata": {},
   "outputs": [
    {
     "name": "stdout",
     "output_type": "stream",
     "text": [
      "[5]\n"
     ]
    }
   ],
   "source": [
    "# definição do valor aleatório p/ inicar a amostrar\n",
    "# vai de 1 até k +1\n",
    "\n",
    "r = np.random.randint(low = 1, high = k + 1, size = 1)\n",
    "\n",
    "print(r)"
   ]
  },
  {
   "cell_type": "code",
   "execution_count": 79,
   "id": "65d6d8db",
   "metadata": {},
   "outputs": [
    {
     "name": "stdout",
     "output_type": "stream",
     "text": [
      "15\n",
      "[5, 15, 25, 35, 45, 55, 65, 75, 85, 95, 105, 115, 125, 135, 145]\n"
     ]
    }
   ],
   "source": [
    "# For que somará os próximos valores\n",
    "# baseado no 1º valor de r definido acima\n",
    "\n",
    "acumulador = r[0]\n",
    "sorteados = []\n",
    "\n",
    "for i in range(amostra):\n",
    "    sorteados.append(acumulador)\n",
    "    acumulador += k\n",
    "    \n",
    "print(len(sorteados))\n",
    "print(sorteados)"
   ]
  },
  {
   "cell_type": "code",
   "execution_count": 81,
   "id": "89180fdc",
   "metadata": {},
   "outputs": [
    {
     "data": {
      "text/html": [
       "<div>\n",
       "<style scoped>\n",
       "    .dataframe tbody tr th:only-of-type {\n",
       "        vertical-align: middle;\n",
       "    }\n",
       "\n",
       "    .dataframe tbody tr th {\n",
       "        vertical-align: top;\n",
       "    }\n",
       "\n",
       "    .dataframe thead th {\n",
       "        text-align: right;\n",
       "    }\n",
       "</style>\n",
       "<table border=\"1\" class=\"dataframe\">\n",
       "  <thead>\n",
       "    <tr style=\"text-align: right;\">\n",
       "      <th></th>\n",
       "      <th>sepal length</th>\n",
       "      <th>sepal width</th>\n",
       "      <th>petal length</th>\n",
       "      <th>petal width</th>\n",
       "      <th>class</th>\n",
       "    </tr>\n",
       "  </thead>\n",
       "  <tbody>\n",
       "    <tr>\n",
       "      <th>5</th>\n",
       "      <td>5.4</td>\n",
       "      <td>3.9</td>\n",
       "      <td>1.7</td>\n",
       "      <td>0.4</td>\n",
       "      <td>Iris-setosa</td>\n",
       "    </tr>\n",
       "    <tr>\n",
       "      <th>15</th>\n",
       "      <td>5.7</td>\n",
       "      <td>4.4</td>\n",
       "      <td>1.5</td>\n",
       "      <td>0.4</td>\n",
       "      <td>Iris-setosa</td>\n",
       "    </tr>\n",
       "    <tr>\n",
       "      <th>25</th>\n",
       "      <td>5.0</td>\n",
       "      <td>3.0</td>\n",
       "      <td>1.6</td>\n",
       "      <td>0.2</td>\n",
       "      <td>Iris-setosa</td>\n",
       "    </tr>\n",
       "    <tr>\n",
       "      <th>35</th>\n",
       "      <td>5.0</td>\n",
       "      <td>3.2</td>\n",
       "      <td>1.2</td>\n",
       "      <td>0.2</td>\n",
       "      <td>Iris-setosa</td>\n",
       "    </tr>\n",
       "    <tr>\n",
       "      <th>45</th>\n",
       "      <td>4.8</td>\n",
       "      <td>3.0</td>\n",
       "      <td>1.4</td>\n",
       "      <td>0.3</td>\n",
       "      <td>Iris-setosa</td>\n",
       "    </tr>\n",
       "    <tr>\n",
       "      <th>55</th>\n",
       "      <td>5.7</td>\n",
       "      <td>2.8</td>\n",
       "      <td>4.5</td>\n",
       "      <td>1.3</td>\n",
       "      <td>Iris-versicolor</td>\n",
       "    </tr>\n",
       "    <tr>\n",
       "      <th>65</th>\n",
       "      <td>6.7</td>\n",
       "      <td>3.1</td>\n",
       "      <td>4.4</td>\n",
       "      <td>1.4</td>\n",
       "      <td>Iris-versicolor</td>\n",
       "    </tr>\n",
       "    <tr>\n",
       "      <th>75</th>\n",
       "      <td>6.6</td>\n",
       "      <td>3.0</td>\n",
       "      <td>4.4</td>\n",
       "      <td>1.4</td>\n",
       "      <td>Iris-versicolor</td>\n",
       "    </tr>\n",
       "    <tr>\n",
       "      <th>85</th>\n",
       "      <td>6.0</td>\n",
       "      <td>3.4</td>\n",
       "      <td>4.5</td>\n",
       "      <td>1.6</td>\n",
       "      <td>Iris-versicolor</td>\n",
       "    </tr>\n",
       "    <tr>\n",
       "      <th>95</th>\n",
       "      <td>5.7</td>\n",
       "      <td>3.0</td>\n",
       "      <td>4.2</td>\n",
       "      <td>1.2</td>\n",
       "      <td>Iris-versicolor</td>\n",
       "    </tr>\n",
       "    <tr>\n",
       "      <th>105</th>\n",
       "      <td>7.6</td>\n",
       "      <td>3.0</td>\n",
       "      <td>6.6</td>\n",
       "      <td>2.1</td>\n",
       "      <td>Iris-virginica</td>\n",
       "    </tr>\n",
       "    <tr>\n",
       "      <th>115</th>\n",
       "      <td>6.4</td>\n",
       "      <td>3.2</td>\n",
       "      <td>5.3</td>\n",
       "      <td>2.3</td>\n",
       "      <td>Iris-virginica</td>\n",
       "    </tr>\n",
       "    <tr>\n",
       "      <th>125</th>\n",
       "      <td>7.2</td>\n",
       "      <td>3.2</td>\n",
       "      <td>6.0</td>\n",
       "      <td>1.8</td>\n",
       "      <td>Iris-virginica</td>\n",
       "    </tr>\n",
       "    <tr>\n",
       "      <th>135</th>\n",
       "      <td>7.7</td>\n",
       "      <td>3.0</td>\n",
       "      <td>6.1</td>\n",
       "      <td>2.3</td>\n",
       "      <td>Iris-virginica</td>\n",
       "    </tr>\n",
       "    <tr>\n",
       "      <th>145</th>\n",
       "      <td>6.7</td>\n",
       "      <td>3.0</td>\n",
       "      <td>5.2</td>\n",
       "      <td>2.3</td>\n",
       "      <td>Iris-virginica</td>\n",
       "    </tr>\n",
       "  </tbody>\n",
       "</table>\n",
       "</div>"
      ],
      "text/plain": [
       "     sepal length  sepal width  petal length  petal width            class\n",
       "5             5.4          3.9           1.7          0.4      Iris-setosa\n",
       "15            5.7          4.4           1.5          0.4      Iris-setosa\n",
       "25            5.0          3.0           1.6          0.2      Iris-setosa\n",
       "35            5.0          3.2           1.2          0.2      Iris-setosa\n",
       "45            4.8          3.0           1.4          0.3      Iris-setosa\n",
       "55            5.7          2.8           4.5          1.3  Iris-versicolor\n",
       "65            6.7          3.1           4.4          1.4  Iris-versicolor\n",
       "75            6.6          3.0           4.4          1.4  Iris-versicolor\n",
       "85            6.0          3.4           4.5          1.6  Iris-versicolor\n",
       "95            5.7          3.0           4.2          1.2  Iris-versicolor\n",
       "105           7.6          3.0           6.6          2.1   Iris-virginica\n",
       "115           6.4          3.2           5.3          2.3   Iris-virginica\n",
       "125           7.2          3.2           6.0          1.8   Iris-virginica\n",
       "135           7.7          3.0           6.1          2.3   Iris-virginica\n",
       "145           6.7          3.0           5.2          2.3   Iris-virginica"
      ]
     },
     "execution_count": 81,
     "metadata": {},
     "output_type": "execute_result"
    }
   ],
   "source": [
    "# carregando a base final para carregar o método \n",
    "\n",
    "df.loc[sorteados]"
   ]
  },
  {
   "cell_type": "markdown",
   "id": "b9e25c7a",
   "metadata": {},
   "source": [
    "---------------------------------------------------------------------\n",
    "\n",
    "## Centralidade e Variabilidade\n",
    "\n",
    "---------------------------------------------------------------------"
   ]
  },
  {
   "cell_type": "code",
   "execution_count": null,
   "id": "aac7c402",
   "metadata": {},
   "outputs": [],
   "source": []
  }
 ],
 "metadata": {
  "kernelspec": {
   "display_name": "Python 3 (ipykernel)",
   "language": "python",
   "name": "python3"
  },
  "language_info": {
   "codemirror_mode": {
    "name": "ipython",
    "version": 3
   },
   "file_extension": ".py",
   "mimetype": "text/x-python",
   "name": "python",
   "nbconvert_exporter": "python",
   "pygments_lexer": "ipython3",
   "version": "3.9.7"
  }
 },
 "nbformat": 4,
 "nbformat_minor": 5
}
